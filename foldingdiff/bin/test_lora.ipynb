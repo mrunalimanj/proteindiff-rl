{
 "cells": [
  {
   "cell_type": "code",
   "execution_count": 4,
   "metadata": {},
   "outputs": [
    {
     "name": "stdout",
     "output_type": "stream",
     "text": [
      "The autoreload extension is already loaded. To reload it, use:\n",
      "  %reload_ext autoreload\n"
     ]
    }
   ],
   "source": [
    "%load_ext autoreload\n",
    "%autoreload 2\n",
    "\n",
    "from foldingdiff import finetuning\n",
    "from peft import get_peft_config, get_peft_model, get_peft_model_state_dict, LoraConfig, TaskType\n"
   ]
  },
  {
   "cell_type": "code",
   "execution_count": 5,
   "metadata": {},
   "outputs": [
    {
     "name": "stderr",
     "output_type": "stream",
     "text": [
      "INFO:root:Auto constructed ft_is_angular: [True, True, True, True, True, True]\n",
      "INFO:root:Found 2 checkpoints\n",
      "INFO:root:Loading weights from /mnt/home/mrunali/project/proteindiff-rl/model_runs/lora_ckpt_start/models/best_by_valid/epoch=1397-step=531240.ckpt\n"
     ]
    },
    {
     "name": "stderr",
     "output_type": "stream",
     "text": [
      "INFO:torch.distributed.nn.jit.instantiator:Created a temporary directory at /tmp/tmpjog8hi4r\n",
      "INFO:torch.distributed.nn.jit.instantiator:Writing /tmp/tmpjog8hi4r/_remote_module_non_scriptable.py\n",
      "Using time embedding: GaussianFourierProjection()\n",
      "INFO:root:Mapping loss smooth_l1 to list of losses corresponding to angular [True, True, True, True, True, True]\n",
      "Using loss: [functools.partial(<function radian_smooth_l1_loss at 0x7f1e0fd0c4c0>, beta=0.3141592653589793), functools.partial(<function radian_smooth_l1_loss at 0x7f1e0fd0c4c0>, beta=0.3141592653589793), functools.partial(<function radian_smooth_l1_loss at 0x7f1e0fd0c4c0>, beta=0.3141592653589793), functools.partial(<function radian_smooth_l1_loss at 0x7f1e0fd0c4c0>, beta=0.3141592653589793), functools.partial(<function radian_smooth_l1_loss at 0x7f1e0fd0c4c0>, beta=0.3141592653589793), functools.partial(<function radian_smooth_l1_loss at 0x7f1e0fd0c4c0>, beta=0.3141592653589793)]\n"
     ]
    }
   ],
   "source": [
    "model_bert = finetuning.BertForDiffusion.from_dir(dirname= \"/mnt/home/mrunali/project/proteindiff-rl/model_runs/lora_ckpt_start/\")"
   ]
  },
  {
   "cell_type": "code",
   "execution_count": 6,
   "metadata": {},
   "outputs": [],
   "source": [
    "peft_config = LoraConfig(task_type=TaskType.SEQ_2_SEQ_LM, inference_mode=False, r=8, lora_alpha=32, lora_dropout=0.1)"
   ]
  },
  {
   "cell_type": "code",
   "execution_count": 7,
   "metadata": {},
   "outputs": [],
   "source": [
    "peft_test = get_peft_model(model_bert, peft_config)\n"
   ]
  },
  {
   "cell_type": "code",
   "execution_count": 8,
   "metadata": {},
   "outputs": [
    {
     "name": "stderr",
     "output_type": "stream",
     "text": [
      "Using time embedding: GaussianFourierProjection()\n",
      "INFO:root:Mapping loss smooth_l1 to list of losses corresponding to angular [False, True, True, True]\n",
      "Using loss: [<function smooth_l1_loss at 0x7f1e9b9cf820>, functools.partial(<function radian_smooth_l1_loss at 0x7f1e0fd0c4c0>, beta=0.3141592653589793), functools.partial(<function radian_smooth_l1_loss at 0x7f1e0fd0c4c0>, beta=0.3141592653589793), functools.partial(<function radian_smooth_l1_loss at 0x7f1e0fd0c4c0>, beta=0.3141592653589793)]\n"
     ]
    }
   ],
   "source": [
    "peft_bfd = finetuning.BertForDiffusionLoRA(peft_test, config= model_bert.config)"
   ]
  },
  {
   "cell_type": "code",
   "execution_count": 10,
   "metadata": {},
   "outputs": [
    {
     "data": {
      "text/plain": [
       "BertForDiffusionLoRA(\n",
       "  (inputs_to_hidden_dim): Linear(in_features=4, out_features=384, bias=True)\n",
       "  (embeddings): BertEmbeddings(\n",
       "    (LayerNorm): LayerNorm((384,), eps=1e-12, elementwise_affine=True)\n",
       "    (dropout): Dropout(p=0.1, inplace=False)\n",
       "  )\n",
       "  (encoder): BertEncoder(\n",
       "    (layer): ModuleList(\n",
       "      (0-11): 12 x BertLayer(\n",
       "        (attention): BertAttention(\n",
       "          (self): BertSelfAttention(\n",
       "            (query): Linear(in_features=384, out_features=384, bias=True)\n",
       "            (key): Linear(in_features=384, out_features=384, bias=True)\n",
       "            (value): Linear(in_features=384, out_features=384, bias=True)\n",
       "            (dropout): Dropout(p=0.1, inplace=False)\n",
       "            (distance_embedding): Embedding(255, 32)\n",
       "          )\n",
       "          (output): BertSelfOutput(\n",
       "            (dense): Linear(in_features=384, out_features=384, bias=True)\n",
       "            (LayerNorm): LayerNorm((384,), eps=1e-12, elementwise_affine=True)\n",
       "            (dropout): Dropout(p=0.1, inplace=False)\n",
       "          )\n",
       "        )\n",
       "        (intermediate): BertIntermediate(\n",
       "          (dense): Linear(in_features=384, out_features=768, bias=True)\n",
       "          (intermediate_act_fn): GELUActivation()\n",
       "        )\n",
       "        (output): BertOutput(\n",
       "          (dense): Linear(in_features=768, out_features=384, bias=True)\n",
       "          (LayerNorm): LayerNorm((384,), eps=1e-12, elementwise_affine=True)\n",
       "          (dropout): Dropout(p=0.1, inplace=False)\n",
       "        )\n",
       "      )\n",
       "    )\n",
       "  )\n",
       "  (token_decoder): AnglesPredictor(\n",
       "    (dense1): Linear(in_features=384, out_features=384, bias=True)\n",
       "    (dense1_act): GELUActivation()\n",
       "    (layer_norm): LayerNorm((384,), eps=1e-12, elementwise_affine=True)\n",
       "    (dense2): Linear(in_features=384, out_features=4, bias=True)\n",
       "  )\n",
       "  (time_embed): GaussianFourierProjection()\n",
       ")"
      ]
     },
     "execution_count": 10,
     "metadata": {},
     "output_type": "execute_result"
    }
   ],
   "source": [
    "peft_bfd"
   ]
  },
  {
   "cell_type": "code",
   "execution_count": 9,
   "metadata": {},
   "outputs": [
    {
     "data": {
      "text/plain": [
       "'reinforce'"
      ]
     },
     "execution_count": 9,
     "metadata": {},
     "output_type": "execute_result"
    }
   ],
   "source": [
    "peft_bfd.method # lol oh dear \n"
   ]
  },
  {
   "cell_type": "code",
   "execution_count": null,
   "metadata": {},
   "outputs": [],
   "source": []
  }
 ],
 "metadata": {
  "kernelspec": {
   "display_name": "foldingdiff_lora",
   "language": "python",
   "name": "python3"
  },
  "language_info": {
   "codemirror_mode": {
    "name": "ipython",
    "version": 3
   },
   "file_extension": ".py",
   "mimetype": "text/x-python",
   "name": "python",
   "nbconvert_exporter": "python",
   "pygments_lexer": "ipython3",
   "version": "3.8.18"
  }
 },
 "nbformat": 4,
 "nbformat_minor": 2
}
